{
 "cells": [
  {
   "cell_type": "code",
   "execution_count": 4,
   "metadata": {},
   "outputs": [],
   "source": [
    "from PIL import Image\n",
    "import pytesseract\n",
    "import pymorphy2\n",
    "from nltk.tokenize import RegexpTokenizer\n",
    "import os"
   ]
  },
  {
   "cell_type": "code",
   "execution_count": 2,
   "metadata": {},
   "outputs": [],
   "source": [
    "pytesseract.pytesseract.tesseract_cmd = r\"C:\\Program Files\\Tesseract-OCR\\tesseract.exe\""
   ]
  },
  {
   "cell_type": "code",
   "execution_count": 109,
   "metadata": {},
   "outputs": [],
   "source": [
    "class findNames():\n",
    "    \n",
    "    def __init__ (self, word, path): # Входные данные подаются через конструктор\n",
    "        self.word = word\n",
    "        self.path = path\n",
    "    \n",
    "    def parse(x,y): # Метод для поиска в морфологическом массиве\n",
    "        for i in x:\n",
    "            if y in i.tag:\n",
    "                return True\n",
    "    \n",
    "    def getNamesFromImage(self,imageName): # Поиск ФИО в строке после распознования картинок\n",
    "        names = []                         # Список всех ФИО в документе\n",
    "        list = {}                          # Словарь для записи ФИО\n",
    "        morph = pymorphy2.MorphAnalyzer()\n",
    "\n",
    "        for i in imageToString(imageName):    \n",
    "            if i[0].isupper() and len(i)>2: # первое условие: Слово должно начинаться с заглавной буквы и быть длинне двух символов\n",
    "                word = morph.parse(i)\n",
    "                if 'Surn' in word[0].tag:   #если в морфологическом массиве имеется обозначение фамилии\n",
    "                    list['Surname'] = i\n",
    "                if 'Name' in word[0].tag:   #если в морфологическом массиве имеется обозначение имени\n",
    "                    list['Name'] = i\n",
    "                if 'Patr' in word[0].tag:   #если в морфологическом массиве имеется обозначение отчества\n",
    "                    list['Patr'] = i\n",
    "            if len(list) == 3:              # в тот момент, кода словарь заполнен, \n",
    "                names.append(list)          # он помещается в список имен\n",
    "                list={}\n",
    "        return names\n",
    "    \n",
    "    def imageToString(imageName):          # метод преобразования изображения в строку\n",
    "        image = Image.open(self.path + '\\\\' + imageName)\n",
    "        image.load()\n",
    "        toker = RegexpTokenizer(r'((?<=[^\\w\\s])\\w(?=[^\\w\\s])|(\\W))+', gaps=True) # удаление из строки всех знаком пунктуации\n",
    "        return toker.tokenize(pytesseract.image_to_string(image, lang='rus'))\n",
    "    \n",
    "    def getNames(self):\n",
    "        result = {}\n",
    "        for i in os.listdir(self.path):\n",
    "            if self.word in imageToString(i):\n",
    "                result[i] = getNamesFromImage(i)\n",
    "        return result\n",
    "            \n",
    "    "
   ]
  },
  {
   "cell_type": "code",
   "execution_count": 116,
   "metadata": {},
   "outputs": [],
   "source": [
    "m = findNames('Радуга','C:\\\\Users\\\\Ivan\\\\Desktop\\\\Тестовые задания\\\\Задание_1\\\\тест')"
   ]
  },
  {
   "cell_type": "code",
   "execution_count": 117,
   "metadata": {},
   "outputs": [
    {
     "data": {
      "text/plain": [
       "{'326f5c8c7b19f48ea710c4d993d51a92.jpg': [{'Name': 'Алекеея',\n",
       "   'Surname': 'Карпова',\n",
       "   'Patr': 'Георгиевича'},\n",
       "  {'Surname': 'Сомову', 'Name': 'Галину', 'Patr': 'Евгеньевну'}]}"
      ]
     },
     "execution_count": 117,
     "metadata": {},
     "output_type": "execute_result"
    }
   ],
   "source": [
    "m.getNames()"
   ]
  }
 ],
 "metadata": {
  "kernelspec": {
   "display_name": "Python 3",
   "language": "python",
   "name": "python3"
  },
  "language_info": {
   "codemirror_mode": {
    "name": "ipython",
    "version": 3
   },
   "file_extension": ".py",
   "mimetype": "text/x-python",
   "name": "python",
   "nbconvert_exporter": "python",
   "pygments_lexer": "ipython3",
   "version": "3.6.5"
  }
 },
 "nbformat": 4,
 "nbformat_minor": 2
}
